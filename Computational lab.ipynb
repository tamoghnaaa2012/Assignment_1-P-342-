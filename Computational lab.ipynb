{
 "cells": [
  {
   "cell_type": "code",
   "execution_count": 2,
   "metadata": {},
   "outputs": [
    {
     "name": "stdout",
     "output_type": "stream",
     "text": [
      "Enter the number:100\n",
      "The sum is 5050\n"
     ]
    }
   ],
   "source": [
    "#Add natural number\n",
    "n = int(input(\"Enter the number:\"))\n",
    "\n",
    "i = 1\n",
    "sum =0\n",
    "\n",
    "while i <= n:\n",
    "    sum = sum +i\n",
    "    i = i+1\n",
    "    \n",
    "print(\"The sum is\", sum)\n"
   ]
  },
  {
   "cell_type": "code",
   "execution_count": 3,
   "metadata": {},
   "outputs": [
    {
     "name": "stdout",
     "output_type": "stream",
     "text": [
      "Enter the number:5\n",
      "The result is 120\n"
     ]
    }
   ],
   "source": [
    "#Factorial\n",
    "n = int(input(\"Enter the number:\"))\n",
    "\n",
    "i=1\n",
    "fact =1\n",
    "while i<=n:\n",
    "    fact = fact*i\n",
    "    i = i+1\n",
    "    \n",
    "print(\"The result is\",fact)"
   ]
  },
  {
   "cell_type": "code",
   "execution_count": 4,
   "metadata": {},
   "outputs": [
    {
     "name": "stdout",
     "output_type": "stream",
     "text": [
      "Enter the number:1000\n",
      "The sum is 7.485470860550343\n"
     ]
    }
   ],
   "source": [
    "#3rd question\n",
    "n = int(input(\"Enter the number:\"))\n",
    "\n",
    "i = 1\n",
    "sum =0.0\n",
    "\n",
    "while i <= n:\n",
    "    sum = sum + 1/i\n",
    "    i = i+1\n",
    "    \n",
    "print(\"The sum is\", sum)"
   ]
  },
  {
   "cell_type": "code",
   "execution_count": null,
   "metadata": {},
   "outputs": [],
   "source": []
  }
 ],
 "metadata": {
  "kernelspec": {
   "display_name": "Python 3",
   "language": "python",
   "name": "python3"
  },
  "language_info": {
   "codemirror_mode": {
    "name": "ipython",
    "version": 3
   },
   "file_extension": ".py",
   "mimetype": "text/x-python",
   "name": "python",
   "nbconvert_exporter": "python",
   "pygments_lexer": "ipython3",
   "version": "3.7.7"
  }
 },
 "nbformat": 4,
 "nbformat_minor": 4
}
